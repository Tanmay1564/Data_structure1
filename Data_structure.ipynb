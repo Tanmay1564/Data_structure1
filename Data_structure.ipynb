{
  "nbformat": 4,
  "nbformat_minor": 0,
  "metadata": {
    "colab": {
      "provenance": []
    },
    "kernelspec": {
      "name": "python3",
      "display_name": "Python 3"
    },
    "language_info": {
      "name": "python"
    }
  },
  "cells": [
    {
      "cell_type": "markdown",
      "source": [
        "1 What are data structures, and why are they important?\n",
        "- data structure are improtant for specialized formats for organizing, storing, and managing data.\n",
        "\n",
        "2 Explain the difference between mutable and immutable data types with examples?\n",
        "- Mutable - this type of data type are changed after created\n",
        "ex.list,set,Dictionaries.\n",
        "- Immutable - this type of data type are not changed once created ex. string,tuple.\n",
        "\n",
        "3 What are the main differences between lists and tuples in Python ?\n",
        " - list are mutable & tuples are immutable\n",
        " - list are defined as [] & tuple are defined as()\n",
        "\n",
        "4 Describe how dictionaries store data?\n",
        "- In dictionaries stored data in key value pair\n",
        "\n",
        "5 Why might you use a set instead of a list in Python?\n",
        "- set are contain the unordered collection of unique element & it also remove the duplication of the data\n",
        "- list contain duplication element\n",
        "\n",
        "6 What is a string in Python, and how is it different from a list?\n",
        "- In Python, a string is a sequence of characters enclosed in quotes (single or  double,)\n",
        "- And a list is a sequence of elements that can be of any data type, enclosed in square brackets.\n",
        "\n",
        "7 How do tuples ensure data integrity in Python?\n",
        "- because they are immutable once a tuple is created then  its contents cannot be changed, added to, or removed from.\n",
        "\n",
        "8  What is a hash table, and how does it relate to dictionaries in Python?\n",
        "- A hash table is a data structure that stores key-value pairs and allows for fast data retrieval using a key.\n",
        "- In Python, the built-in dict (dictionary) type is implemented using a hash table.\n",
        "\n",
        "9 Can lists contain different data types in Python?\n",
        "- Yes, lists contain elements of different data types\n",
        "\n",
        "10 Explain why strings are immutable in Python?\n",
        "- Strings are immutable in Python because their design prioritizes performance, security, and simplicity in handling text data.\n",
        "\n",
        "11 What advantages do dictionaries offer over lists for certain tasks?\n",
        "- Dictionaries store data as key-value pairs, making it easy to associate related information (like a name and phone number) instead of just values in order.\n",
        "- Updating the value for a key is straightforward and doesn’t require searching for an item’s position.\n",
        "\n",
        "12 Describe a scenario where using a tuple would be preferable over a list?\n",
        "-  tuple used coordinates of a point in 2D space like (x, y) values.\n",
        "- Coordinates shouldn’t change once set. Tuples are immutable, so the values stay fixed.\n",
        "\n",
        "13 How do sets handle duplicate values in Python?\n",
        "\n",
        "- When you add elements to a set, if an element is already present, it won’t be added again.\n",
        "\n",
        "14  How does the “in” keyword work differently for lists and dictionaries?\n",
        "- In list Checks if a value exists anywhere in the list.\n",
        "- In dictionaries Checks if a key exists in the dictionary.\n",
        "\n",
        "15 Can you modify the elements of a tuple? Explain why or why not?\n",
        "- No, you cannot modify the elements of a tuple in Python because tuples are immutable.\n",
        "\n",
        "16 What is a nested dictionary, and give an example of its use case?\n",
        "- A nested dictionary in Python is a dictionary where one or more values are themselves dictionaries.\n",
        "\n"
      ],
      "metadata": {
        "id": "k1Uf3DrRuiMS"
      }
    },
    {
      "cell_type": "code",
      "source": [
        "nested_dict = {\n",
        "    \"person1\": {\n",
        "        \"name\": \"ram\",\n",
        "        \"age\": 3,\n",
        "        \"city\": \"nashik\"\n",
        "    },\n",
        "    \"person2\": {\n",
        "        \"name\": \"sita\",\n",
        "        \"age\": 5,\n",
        "        \"city\": \"pune \"\n",
        "    }\n",
        "}"
      ],
      "metadata": {
        "id": "NDREufwCvPeM"
      },
      "execution_count": 1,
      "outputs": []
    },
    {
      "cell_type": "markdown",
      "source": [
        "17  Describe the time complexity of accessing elements in a dictionary?\n",
        "- Time complexity of dictionary O(1)\n",
        "\n",
        "18 In what situations are lists preferred over dictionaries?\n",
        "- Lists preserve order and let you access elements by index (e.g., first, last, or by position). Dictionaries only preserve insertion order but are keyed by unique keys.\n",
        "- When you just need to store items in a sequence without keys, lists are simpler and more natural.\n",
        "-\tLists can hold duplicate elements; dictionaries require unique keys.\n",
        "\n",
        "19  Why are dictionaries considered unordered, and how does that affect data retrieval?\n",
        "- dictionaries did not preserve the order of items — that is, the order in which you added key-value pairs could be lost when you accessed or iterated over them.\n",
        "\n",
        "20 Explain the difference between a list and a dictionary in terms of data retrieval.\n",
        "- In list Elements in a list are retrieved by their integer index\n",
        "- In dictionary retrieve values by specifying the key, not the position"
      ],
      "metadata": {
        "id": "SWJsSTt5woww"
      }
    },
    {
      "cell_type": "code",
      "source": [
        "# Write a code to create a string with your name and print it?\n",
        "name = \"Tanmay\"\n",
        "print(name)"
      ],
      "metadata": {
        "colab": {
          "base_uri": "https://localhost:8080/"
        },
        "id": "muD4ZnWTwHoZ",
        "outputId": "4e50f6c2-5d82-4631-d040-1bfa9edd42d1"
      },
      "execution_count": 2,
      "outputs": [
        {
          "output_type": "stream",
          "name": "stdout",
          "text": [
            "Tanmay\n"
          ]
        }
      ]
    },
    {
      "cell_type": "code",
      "source": [
        "# Write a code to find the length of the string \"Hello World\"?\n",
        "string  = \"Hello World\"\n",
        "print(len(string))"
      ],
      "metadata": {
        "colab": {
          "base_uri": "https://localhost:8080/"
        },
        "id": "5H1Wrp-0w0vo",
        "outputId": "3f7fb7ac-d04d-4c64-a0ca-53c814636e34"
      },
      "execution_count": 3,
      "outputs": [
        {
          "output_type": "stream",
          "name": "stdout",
          "text": [
            "11\n"
          ]
        }
      ]
    },
    {
      "cell_type": "code",
      "source": [
        "# Write a code to slice the first 3 characters from the string \"Python Programming\"?\n",
        "string = \"Python Programming\"\n",
        "print(string[0:3])"
      ],
      "metadata": {
        "colab": {
          "base_uri": "https://localhost:8080/"
        },
        "id": "RVDPJn5Ow7Iw",
        "outputId": "85b978fb-dc94-40f2-dbbb-6cc80972cc64"
      },
      "execution_count": 4,
      "outputs": [
        {
          "output_type": "stream",
          "name": "stdout",
          "text": [
            "Pyt\n"
          ]
        }
      ]
    },
    {
      "cell_type": "code",
      "source": [
        "# Write a code to convert the string \"hello\" to uppercase?\n",
        "string = \"hello\"\n",
        "print(string.upper())"
      ],
      "metadata": {
        "colab": {
          "base_uri": "https://localhost:8080/"
        },
        "id": "4-Tb4u-CxA5Y",
        "outputId": "2e1b48dc-c6a9-42c9-8976-7249470b4b19"
      },
      "execution_count": 5,
      "outputs": [
        {
          "output_type": "stream",
          "name": "stdout",
          "text": [
            "HELLO\n"
          ]
        }
      ]
    },
    {
      "cell_type": "code",
      "source": [
        " # Write a code to replace the word \"apple\" with \"orange\" in the string \"I like apple\"?\n",
        " string  = \"I like apple\"\n",
        " print(string.replace(\"apple\",\"orange\"))"
      ],
      "metadata": {
        "colab": {
          "base_uri": "https://localhost:8080/"
        },
        "id": "PseKfxSUxGqr",
        "outputId": "c80c7af0-a5ca-4e9f-ded6-3ad02ce0f32d"
      },
      "execution_count": 6,
      "outputs": [
        {
          "output_type": "stream",
          "name": "stdout",
          "text": [
            "I like orange\n"
          ]
        }
      ]
    },
    {
      "cell_type": "code",
      "source": [
        "#  Write a code to create a list with numbers 1 to 5 and print it?\n",
        "list = [1,2,3,4,5]\n",
        "print(list)"
      ],
      "metadata": {
        "colab": {
          "base_uri": "https://localhost:8080/"
        },
        "id": "Vczk1MYPxKFf",
        "outputId": "4af2cd36-774b-4874-9724-06dcab39a91e"
      },
      "execution_count": 7,
      "outputs": [
        {
          "output_type": "stream",
          "name": "stdout",
          "text": [
            "[1, 2, 3, 4, 5]\n"
          ]
        }
      ]
    },
    {
      "cell_type": "code",
      "source": [
        "# Write a code to append the number 10 to the list [1, 2, 3, 4]\n",
        "list = [1,2,3,4]\n",
        "list.append(10)\n",
        "print(list)"
      ],
      "metadata": {
        "colab": {
          "base_uri": "https://localhost:8080/"
        },
        "id": "blK9cdFkxRez",
        "outputId": "1ea62fdb-e153-48c4-f8af-5ba5246550f9"
      },
      "execution_count": 8,
      "outputs": [
        {
          "output_type": "stream",
          "name": "stdout",
          "text": [
            "[1, 2, 3, 4, 10]\n"
          ]
        }
      ]
    },
    {
      "cell_type": "code",
      "source": [
        "# Write a code to remove the number 3 from the list [1, 2, 3, 4, 5]?\n",
        "list = [1,2,3,4,5]\n",
        "list.remove(3)\n",
        "print(list)"
      ],
      "metadata": {
        "colab": {
          "base_uri": "https://localhost:8080/"
        },
        "id": "c6a7wCRwxWWq",
        "outputId": "e9700e07-8879-464f-dc71-0b1516b8e8fa"
      },
      "execution_count": 9,
      "outputs": [
        {
          "output_type": "stream",
          "name": "stdout",
          "text": [
            "[1, 2, 4, 5]\n"
          ]
        }
      ]
    },
    {
      "cell_type": "code",
      "source": [
        "# Write a code to access the second element in the list ['a', 'b', 'c', 'd']?\n",
        "list = ['a', 'b', 'c', 'd']\n",
        "print(list[1])\n"
      ],
      "metadata": {
        "colab": {
          "base_uri": "https://localhost:8080/"
        },
        "id": "LIPQnwywxeK9",
        "outputId": "395a5ccc-9f1a-42bf-b148-edf09dad9c05"
      },
      "execution_count": 10,
      "outputs": [
        {
          "output_type": "stream",
          "name": "stdout",
          "text": [
            "b\n"
          ]
        }
      ]
    },
    {
      "cell_type": "code",
      "source": [
        "# Write a code to reverse the list [10, 20, 30, 40, 50].\n",
        "list = [10,20,30,40,50]\n",
        "print(list[::-1])"
      ],
      "metadata": {
        "colab": {
          "base_uri": "https://localhost:8080/"
        },
        "id": "jqFipiLIxhEW",
        "outputId": "b5f316e7-3603-450b-d5cf-5ab731e78ba4"
      },
      "execution_count": 11,
      "outputs": [
        {
          "output_type": "stream",
          "name": "stdout",
          "text": [
            "[50, 40, 30, 20, 10]\n"
          ]
        }
      ]
    },
    {
      "cell_type": "code",
      "source": [
        "#  Write a code to create a tuple with the elements 100, 200, 300 and print it.\n",
        "tuple = (100,200,300)\n",
        "print(tuple)"
      ],
      "metadata": {
        "colab": {
          "base_uri": "https://localhost:8080/"
        },
        "id": "6mFPv7XWxjV4",
        "outputId": "152bdf9a-0cb0-402d-ec88-09056f191d3a"
      },
      "execution_count": 12,
      "outputs": [
        {
          "output_type": "stream",
          "name": "stdout",
          "text": [
            "(100, 200, 300)\n"
          ]
        }
      ]
    },
    {
      "cell_type": "code",
      "source": [
        "# Write a code to access the second-to-last element of the tuple ('red', 'green', 'blue', 'yellow').\n",
        "tuple = ('red', 'green', 'blue', 'yellow')\n",
        "print(tuple[-2])"
      ],
      "metadata": {
        "colab": {
          "base_uri": "https://localhost:8080/"
        },
        "id": "He5MtNdDxmUP",
        "outputId": "adbb8569-e792-4a7b-ed0f-64e2dd931c1c"
      },
      "execution_count": 13,
      "outputs": [
        {
          "output_type": "stream",
          "name": "stdout",
          "text": [
            "blue\n"
          ]
        }
      ]
    },
    {
      "cell_type": "code",
      "source": [
        "# Write a code to find the minimum number in the tuple (10, 20, 5, 15).\n",
        "tuple = (10, 20, 5, 15)\n",
        "print(min(tuple))\n"
      ],
      "metadata": {
        "colab": {
          "base_uri": "https://localhost:8080/"
        },
        "id": "iSy3Nd0jxoo3",
        "outputId": "4cd94c6f-0294-4775-d186-ebee7e5e6727"
      },
      "execution_count": 14,
      "outputs": [
        {
          "output_type": "stream",
          "name": "stdout",
          "text": [
            "5\n"
          ]
        }
      ]
    },
    {
      "cell_type": "code",
      "source": [
        "#  Write a code to find the index of the element \"cat\" in the tuple ('dog', 'cat', 'rabbit')\n",
        "animal = ('dog', 'cat', 'rabbit')\n",
        "print(animal.index('cat'))"
      ],
      "metadata": {
        "colab": {
          "base_uri": "https://localhost:8080/"
        },
        "id": "PXWWcG4vxveo",
        "outputId": "e0ce70d8-fc9e-49ae-e3fc-9fb56dda023a"
      },
      "execution_count": 15,
      "outputs": [
        {
          "output_type": "stream",
          "name": "stdout",
          "text": [
            "1\n"
          ]
        }
      ]
    },
    {
      "cell_type": "code",
      "source": [
        "# 15. Write a code to create a tuple containing three different fruits and check if \"kiwi\" is in it?\n",
        "fruits = (\"apple\", \"banana\", \"orange\")\n",
        "if \"kiwi\" in fruits:\n",
        "    print(\"kiwi is in the tuple\")\n",
        "else:\n",
        "    print(\"kiwi is not in the tuple\")"
      ],
      "metadata": {
        "colab": {
          "base_uri": "https://localhost:8080/"
        },
        "id": "WLU-QzHhx1NJ",
        "outputId": "9f2f8954-9c52-40ae-be8d-6a793c61d670"
      },
      "execution_count": 16,
      "outputs": [
        {
          "output_type": "stream",
          "name": "stdout",
          "text": [
            "kiwi is not in the tuple\n"
          ]
        }
      ]
    },
    {
      "cell_type": "code",
      "source": [
        "#  Write a code to create a set with the elements 'a', 'b', 'c' and print it.\n",
        "set = {'a', 'b', 'c'}\n",
        "print(set)"
      ],
      "metadata": {
        "colab": {
          "base_uri": "https://localhost:8080/"
        },
        "id": "u83Ri5cJx4xZ",
        "outputId": "d5d5b72f-79c9-42ac-82eb-14b03ff11047"
      },
      "execution_count": 17,
      "outputs": [
        {
          "output_type": "stream",
          "name": "stdout",
          "text": [
            "{'c', 'b', 'a'}\n"
          ]
        }
      ]
    },
    {
      "cell_type": "code",
      "source": [
        "# Write a code to clear all elements from the set {1, 2, 3, 4, 5}.\n",
        "set = {1,2,3,4,5}\n",
        "set.clear()\n",
        "print(set)"
      ],
      "metadata": {
        "colab": {
          "base_uri": "https://localhost:8080/"
        },
        "id": "UEbgcdQtyBuP",
        "outputId": "f86c2319-d451-47a0-bb5d-768fbc1ddf23"
      },
      "execution_count": 18,
      "outputs": [
        {
          "output_type": "stream",
          "name": "stdout",
          "text": [
            "set()\n"
          ]
        }
      ]
    },
    {
      "cell_type": "code",
      "source": [
        " # Write a code to remove the element 4 from the set {1, 2, 3, 4}.\n",
        " set = {1,2,3,4}\n",
        " set.remove(4)\n",
        " print(set)"
      ],
      "metadata": {
        "colab": {
          "base_uri": "https://localhost:8080/"
        },
        "id": "lqBs87ZGx-d1",
        "outputId": "ceded5e3-9e11-4422-b038-0846ce758eb7"
      },
      "execution_count": 19,
      "outputs": [
        {
          "output_type": "stream",
          "name": "stdout",
          "text": [
            "{1, 2, 3}\n"
          ]
        }
      ]
    },
    {
      "cell_type": "code",
      "source": [
        "# Write a code to find the union of two sets {1, 2, 3} and {3, 4, 5}\n",
        "set1 = {1,2,3}\n",
        "set2 = {3,4,5}\n",
        "print(set1.union(set2))\n"
      ],
      "metadata": {
        "colab": {
          "base_uri": "https://localhost:8080/"
        },
        "id": "lgB3OzMDyGlO",
        "outputId": "b6f21fa5-7fa4-484b-abea-e5b9399c4d03"
      },
      "execution_count": 20,
      "outputs": [
        {
          "output_type": "stream",
          "name": "stdout",
          "text": [
            "{1, 2, 3, 4, 5}\n"
          ]
        }
      ]
    },
    {
      "cell_type": "code",
      "source": [
        "# Write a code to find the intersection of two sets {1, 2, 3} and {2, 3, 4}\n",
        "set1 = {1,2,3}\n",
        "set2 = {2,3,4}\n",
        "print(set1.intersection(set2))"
      ],
      "metadata": {
        "colab": {
          "base_uri": "https://localhost:8080/"
        },
        "id": "tUP69EK5yJe9",
        "outputId": "451913b4-b4e1-47e1-9ec7-12c035c39abc"
      },
      "execution_count": 21,
      "outputs": [
        {
          "output_type": "stream",
          "name": "stdout",
          "text": [
            "{2, 3}\n"
          ]
        }
      ]
    },
    {
      "cell_type": "code",
      "source": [
        "#  Write a code to create a dictionary with the keys \"name\", \"age\", and \"city\", and print it.\n",
        "dictionary = {\"name\":\"Tanmay\",\"age\":20,\"city\":\"pune\"}\n",
        "print(dictionary)"
      ],
      "metadata": {
        "colab": {
          "base_uri": "https://localhost:8080/"
        },
        "id": "qJGHK2z6yM7s",
        "outputId": "0123eb37-79a3-44bd-cf58-380ec6109b64"
      },
      "execution_count": 23,
      "outputs": [
        {
          "output_type": "stream",
          "name": "stdout",
          "text": [
            "{'name': 'Tanmay', 'age': 20, 'city': 'pune'}\n"
          ]
        }
      ]
    },
    {
      "cell_type": "code",
      "source": [
        "#  Write a code to add a new key-value pair \"country\": \"USA\" to the dictionary {'name': 'John', 'age': 25}.\n",
        "dictionary = {'name': 'John', 'age': 25}\n",
        "dictionary[\"country\"] = \"USA\"\n",
        "print(dictionary)"
      ],
      "metadata": {
        "colab": {
          "base_uri": "https://localhost:8080/"
        },
        "id": "RkP0_PyiyUlf",
        "outputId": "2be0525d-11d4-41d3-a256-1e6669813937"
      },
      "execution_count": 24,
      "outputs": [
        {
          "output_type": "stream",
          "name": "stdout",
          "text": [
            "{'name': 'John', 'age': 25, 'country': 'USA'}\n"
          ]
        }
      ]
    },
    {
      "cell_type": "code",
      "source": [
        "# Write a code to access the value associated with the key \"name\" in the dictionary {'name': 'Alice', 'age': 30}.\n",
        "dict =  {'name': 'Alice', 'age': 30}\n",
        "print(dict[\"name\"])"
      ],
      "metadata": {
        "colab": {
          "base_uri": "https://localhost:8080/"
        },
        "id": "nof5NBO2yf-5",
        "outputId": "de7d2805-ab0c-47d5-9ff8-e3cb8b01f914"
      },
      "execution_count": 25,
      "outputs": [
        {
          "output_type": "stream",
          "name": "stdout",
          "text": [
            "Alice\n"
          ]
        }
      ]
    },
    {
      "cell_type": "code",
      "source": [
        "# Write a code to remove the key \"age\" from the dictionary {'name': 'Bob', 'age': 22, 'city': 'New York'}\n",
        "dict = {'name': 'Bob', 'age': 22, 'city': 'New York'}\n",
        "del dict[\"age\"]\n",
        "print(dict)"
      ],
      "metadata": {
        "colab": {
          "base_uri": "https://localhost:8080/"
        },
        "id": "GxV80aeryi1f",
        "outputId": "be8b6cd9-1914-40ea-f950-65ccb90d3e6a"
      },
      "execution_count": 26,
      "outputs": [
        {
          "output_type": "stream",
          "name": "stdout",
          "text": [
            "{'name': 'Bob', 'city': 'New York'}\n"
          ]
        }
      ]
    },
    {
      "cell_type": "code",
      "source": [
        "# Write a code to check if the key \"city\" exists in the dictionary {'name': 'Alice', 'city': 'Paris'}\n",
        "dict = {'name': 'Alice', 'city': 'Paris'}\n",
        "if \"city\" in dict:\n",
        "    print(\"city exists in the dictionary\")\n",
        "else:\n",
        "    print(\"city does not exist in the dictionary\")"
      ],
      "metadata": {
        "colab": {
          "base_uri": "https://localhost:8080/"
        },
        "id": "ce6gD7zqymQm",
        "outputId": "d7ee2ea6-5ba5-4f60-b516-7d8efb08581e"
      },
      "execution_count": 27,
      "outputs": [
        {
          "output_type": "stream",
          "name": "stdout",
          "text": [
            "city exists in the dictionary\n"
          ]
        }
      ]
    },
    {
      "cell_type": "code",
      "source": [
        "#  Write a code to create a list, a tuple, and a dictionary, and print them all\n",
        "list = [1,2,3,4,5]\n",
        "print(list)\n",
        "tuple = (1,2,3,4,5)\n",
        "print(tuple)\n",
        "dict = {\"name\":\"vaishnavi\",\"age\":20,\"city\":\"pune\"}\n",
        "print(dict)\n"
      ],
      "metadata": {
        "colab": {
          "base_uri": "https://localhost:8080/"
        },
        "id": "LZPdkdl3yqKU",
        "outputId": "85ff06b4-0fc7-42a2-b53d-8c825be9fe3d"
      },
      "execution_count": 28,
      "outputs": [
        {
          "output_type": "stream",
          "name": "stdout",
          "text": [
            "[1, 2, 3, 4, 5]\n",
            "(1, 2, 3, 4, 5)\n",
            "{'name': 'vaishnavi', 'age': 20, 'city': 'pune'}\n"
          ]
        }
      ]
    },
    {
      "cell_type": "code",
      "source": [
        " '''Write a code to create a list of 5 random numbers between 1 and 100, sort it in ascending order, and print the\n",
        "result.(replaced)'''\n",
        "\n",
        "list = [23,45,34,78,65]\n",
        "list.sort()\n",
        "print(list)\n"
      ],
      "metadata": {
        "colab": {
          "base_uri": "https://localhost:8080/"
        },
        "id": "zKZt9wyRyt2c",
        "outputId": "fe193403-b05f-4b96-8865-2a3eba81fc7a"
      },
      "execution_count": 29,
      "outputs": [
        {
          "output_type": "stream",
          "name": "stdout",
          "text": [
            "[23, 34, 45, 65, 78]\n"
          ]
        }
      ]
    },
    {
      "cell_type": "code",
      "source": [
        "# Write a code to create a list with strings and print the element at the third index\n",
        "list = [\"apple\",\"banana\",\"orange\",\"grapes\"]\n",
        "print(list[2])"
      ],
      "metadata": {
        "colab": {
          "base_uri": "https://localhost:8080/"
        },
        "id": "eCSHtw7-ywc8",
        "outputId": "242b9c1c-13a9-44f1-d1bb-ed2733aea33b"
      },
      "execution_count": 30,
      "outputs": [
        {
          "output_type": "stream",
          "name": "stdout",
          "text": [
            "orange\n"
          ]
        }
      ]
    },
    {
      "cell_type": "code",
      "source": [
        "# Write a code to combine two dictionaries into one and print the result\n",
        "dict1 = {\"fruit\":\"banana\",\"color\":\"yellow\",\"animal\":\"cow\"}\n",
        "dict2 = {\"flower\":\"rose\",\"subject\":\"programming\"}\n",
        "dict1.update(dict2)\n",
        "print(dict1)\n"
      ],
      "metadata": {
        "colab": {
          "base_uri": "https://localhost:8080/"
        },
        "id": "am6UzaNuyytw",
        "outputId": "5efa76bf-0d69-4708-b19d-05d8859bb12f"
      },
      "execution_count": 31,
      "outputs": [
        {
          "output_type": "stream",
          "name": "stdout",
          "text": [
            "{'fruit': 'banana', 'color': 'yellow', 'animal': 'cow', 'flower': 'rose', 'subject': 'programming'}\n"
          ]
        }
      ]
    },
    {
      "cell_type": "code",
      "source": [
        "\n",
        "string_list = [\"apple\", \"banana\", \"apple\", \"orange\", \"banana\"]\n",
        "\n",
        "string_set = set(string_list)\n",
        "\n",
        "print(string_set)\n"
      ],
      "metadata": {
        "colab": {
          "base_uri": "https://localhost:8080/"
        },
        "id": "ldzx1LKsy2d8",
        "outputId": "9e93d6ce-e091-4a2d-ab49-01c2ddabab55"
      },
      "execution_count": 35,
      "outputs": [
        {
          "output_type": "stream",
          "name": "stdout",
          "text": [
            "{'banana', 'apple', 'orange'}\n"
          ]
        }
      ]
    },
    {
      "cell_type": "code",
      "source": [],
      "metadata": {
        "id": "MuW6vj2kzvwp"
      },
      "execution_count": null,
      "outputs": []
    }
  ]
}